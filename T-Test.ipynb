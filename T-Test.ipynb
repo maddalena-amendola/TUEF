{
 "cells": [
  {
   "cell_type": "code",
   "execution_count": 2,
   "metadata": {},
   "outputs": [],
   "source": [
    "import json\n",
    "from ranx import Qrels, Run, evaluate, compare\n",
    "import gzip"
   ]
  },
  {
   "cell_type": "code",
   "execution_count": 3,
   "metadata": {},
   "outputs": [],
   "source": [
    "def read_json(filename):    \n",
    "    \n",
    "    with gzip.open(filename, \"rt\") as f:\n",
    "        obj = json.load(f)\n",
    "    \n",
    "    return obj"
   ]
  },
  {
   "cell_type": "code",
   "execution_count": 4,
   "metadata": {},
   "outputs": [],
   "source": [
    "label = 'EXP7'\n",
    "struc_dir = f'./Dataset/SO/{label}/structures/'"
   ]
  },
  {
   "cell_type": "code",
   "execution_count": 5,
   "metadata": {},
   "outputs": [],
   "source": [
    "qrel = Qrels(read_json(struc_dir + 'qrels_dict'))"
   ]
  },
  {
   "cell_type": "code",
   "execution_count": null,
   "metadata": {},
   "outputs": [],
   "source": [
    "baselines = ['BC', 'BM25', 'TUEFNB', 'TUEFLIN', 'TUEFSL', 'TUEFCB', 'TUEFNORW']\n",
    "runs = []\n",
    "for b in baselines:\n",
    "    path = f'./Dataset/SO/EXP7/Baselines/{b}/structures/'\n",
    "    runs.append(Run(read_json(path + 'run_dict')))\n",
    "runs.append(Run(read_json(struc_dir + 'run_dict')))"
   ]
  },
  {
   "cell_type": "code",
   "execution_count": 7,
   "metadata": {},
   "outputs": [],
   "source": [
    "# Compare different runs and perform Two-sided Paired Student's t-Test\n",
    "report = compare(\n",
    "    qrels=qrel,\n",
    "    runs=runs,\n",
    "    metrics=[\"precision@1\", \"ndcg@3\", \"recall@100\", \"mrr\"],\n",
    "    max_p=0.05  # P-value threshold,\n",
    ")"
   ]
  },
  {
   "cell_type": "code",
   "execution_count": 8,
   "metadata": {},
   "outputs": [
    {
     "data": {
      "text/plain": [
       "#    Model    P@1          NDCG@3        Recall@100    MRR\n",
       "---  -------  -----------  ------------  ------------  ------------\n",
       "a    run_1    0.020        0.033         0.076         0.033\n",
       "b    run_2    0.234ᵃᶜ      0.356ᵃᶜ       0.808ᵃᶜᵍ      0.369ᵃᶜ\n",
       "c    run_3    0.066ᵃ       0.087ᵃ        0.213ᵃ        0.093ᵃ\n",
       "d    run_4    0.264ᵃᵇᶜ     0.360ᵃᶜ       0.874ᵃᵇᶜᵉᶠᵍ   0.383ᵃᵇᶜ\n",
       "e    run_5    0.436ᵃᵇᶜᵈ    0.560ᵃᵇᶜᵈ     0.826ᵃᵇᶜᵍ     0.559ᵃᵇᶜᵈ\n",
       "f    run_6    0.447ᵃᵇᶜᵈᵉ   0.573ᵃᵇᶜᵈᵉᵍ   0.849ᵃᵇᶜᵉᵍ    0.572ᵃᵇᶜᵈᵉᵍ\n",
       "g    run_7    0.443ᵃᵇᶜᵈ    0.561ᵃᵇᶜᵈ     0.754ᵃᶜ       0.552ᵃᵇᶜᵈ\n",
       "h    run_8    0.453ᵃᵇᶜᵈᵉᵍ  0.578ᵃᵇᶜᵈᵉᶠᵍ  0.874ᵃᵇᶜᵉᶠᵍ   0.579ᵃᵇᶜᵈᵉᶠᵍ"
      ]
     },
     "execution_count": 8,
     "metadata": {},
     "output_type": "execute_result"
    }
   ],
   "source": [
    "report"
   ]
  },
  {
   "cell_type": "code",
   "execution_count": null,
   "metadata": {},
   "outputs": [],
   "source": []
  }
 ],
 "metadata": {
  "kernelspec": {
   "display_name": "teuf38",
   "language": "python",
   "name": "python3"
  },
  "language_info": {
   "codemirror_mode": {
    "name": "ipython",
    "version": 3
   },
   "file_extension": ".py",
   "mimetype": "text/x-python",
   "name": "python",
   "nbconvert_exporter": "python",
   "pygments_lexer": "ipython3",
   "version": "3.8.17"
  },
  "orig_nbformat": 4
 },
 "nbformat": 4,
 "nbformat_minor": 2
}
